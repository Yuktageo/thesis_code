{
  "nbformat": 4,
  "nbformat_minor": 0,
  "metadata": {
    "colab": {
      "name": "Salinity_Equation.ipynb",
      "provenance": [],
      "include_colab_link": true
    },
    "kernelspec": {
      "name": "python3",
      "display_name": "Python 3"
    },
    "language_info": {
      "name": "python"
    }
  },
  "cells": [
   
    {
      "cell_type": "code",
      "metadata": {
        "colab": {
          "resources": {
            "http://localhost:8080/nbextensions/google.colab/files.js": {
              "data": "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",
              "ok": true,
              "headers": [
                [
                  "content-type",
                  "application/javascript"
                ]
              ],
              "status": 200,
              "status_text": ""
            }
          },
          "base_uri": "https://localhost:8080/",
          "height": 73
        },
        "id": "jBa8OXMi08_z",
        "outputId": "61cae27e-6c12-415f-961a-e3eaeaae496f"
      },
      "source": [
        "from google.colab import files\n",
        "uploaded=files.upload()"
      ],
      "execution_count": null,
      "outputs": [
        {
          "output_type": "display_data",
          "data": {
            "text/html": [
              "\n",
              "     <input type=\"file\" id=\"files-70ad0158-a5db-4285-a7e9-aa7999af04dd\" name=\"files[]\" multiple disabled\n",
              "        style=\"border:none\" />\n",
              "     <output id=\"result-70ad0158-a5db-4285-a7e9-aa7999af04dd\">\n",
              "      Upload widget is only available when the cell has been executed in the\n",
              "      current browser session. Please rerun this cell to enable.\n",
              "      </output>\n",
              "      <script src=\"/nbextensions/google.colab/files.js\"></script> "
            ],
            "text/plain": [
              "<IPython.core.display.HTML object>"
            ]
          },
          "metadata": {
            "tags": []
          }
        },
        {
          "output_type": "stream",
          "text": [
            "Saving Data_Lansat8.csv to Data_Lansat8.csv\n"
          ],
          "name": "stdout"
        }
      ]
    },
    {
      "cell_type": "code",
      "metadata": {
        "id": "A_2maaCl2x3d"
      },
      "source": [
        "import pandas as pd\n",
        "import matplotlib.pyplot as plt\n",
        "import numpy as np\n",
        "import seaborn as sns\n",
        "from sklearn.preprocessing import StandardScaler,MinMaxScaler\n",
        "from sklearn.model_selection import train_test_split\n",
        "import math\n",
        "%matplotlib inline"
      ],
      "execution_count": null,
      "outputs": []
    },
    {
      "cell_type": "code",
      "metadata": {
        "colab": {
          "base_uri": "https://localhost:8080/",
          "height": 198
        },
        "id": "CAYuJLmA3Orr",
        "outputId": "755dfc23-911f-46f3-acb3-4e9f62a2b51f"
      },
      "source": [
        "df=pd.read_csv(\"Data_Lansat8.csv\")\n",
        "df.drop(['Latitude',\n",
        "       'Longitude'],axis=1,inplace=True)\n",
        "df.head()"
      ],
      "execution_count": null,
      "outputs": [
        {
          "output_type": "execute_result",
          "data": {
            "text/html": [
              "<div>\n",
              "<style scoped>\n",
              "    .dataframe tbody tr th:only-of-type {\n",
              "        vertical-align: middle;\n",
              "    }\n",
              "\n",
              "    .dataframe tbody tr th {\n",
              "        vertical-align: top;\n",
              "    }\n",
              "\n",
              "    .dataframe thead th {\n",
              "        text-align: right;\n",
              "    }\n",
              "</style>\n",
              "<table border=\"1\" class=\"dataframe\">\n",
              "  <thead>\n",
              "    <tr style=\"text-align: right;\">\n",
              "      <th></th>\n",
              "      <th>B1</th>\n",
              "      <th>B2</th>\n",
              "      <th>B3</th>\n",
              "      <th>B4</th>\n",
              "      <th>B5</th>\n",
              "      <th>B6</th>\n",
              "      <th>B7</th>\n",
              "      <th>B10</th>\n",
              "      <th>B11</th>\n",
              "      <th>Salinity</th>\n",
              "      <th>TDS</th>\n",
              "      <th>Turbidity</th>\n",
              "    </tr>\n",
              "  </thead>\n",
              "  <tbody>\n",
              "    <tr>\n",
              "      <th>0</th>\n",
              "      <td>0.0936</td>\n",
              "      <td>0.1081</td>\n",
              "      <td>0.1319</td>\n",
              "      <td>0.1272</td>\n",
              "      <td>0.0615</td>\n",
              "      <td>0.0169</td>\n",
              "      <td>0.0098</td>\n",
              "      <td>0.2920</td>\n",
              "      <td>0.2914</td>\n",
              "      <td>0.00</td>\n",
              "      <td>9</td>\n",
              "      <td>149.64</td>\n",
              "    </tr>\n",
              "    <tr>\n",
              "      <th>1</th>\n",
              "      <td>0.0971</td>\n",
              "      <td>0.1092</td>\n",
              "      <td>0.1325</td>\n",
              "      <td>0.1302</td>\n",
              "      <td>0.0683</td>\n",
              "      <td>0.0168</td>\n",
              "      <td>0.0104</td>\n",
              "      <td>0.2920</td>\n",
              "      <td>0.2913</td>\n",
              "      <td>0.00</td>\n",
              "      <td>6</td>\n",
              "      <td>151.11</td>\n",
              "    </tr>\n",
              "    <tr>\n",
              "      <th>2</th>\n",
              "      <td>0.0924</td>\n",
              "      <td>0.1037</td>\n",
              "      <td>0.1246</td>\n",
              "      <td>0.1232</td>\n",
              "      <td>0.0809</td>\n",
              "      <td>0.0163</td>\n",
              "      <td>0.0094</td>\n",
              "      <td>0.2918</td>\n",
              "      <td>0.2914</td>\n",
              "      <td>0.00</td>\n",
              "      <td>3</td>\n",
              "      <td>151.38</td>\n",
              "    </tr>\n",
              "    <tr>\n",
              "      <th>3</th>\n",
              "      <td>0.0938</td>\n",
              "      <td>0.1070</td>\n",
              "      <td>0.1306</td>\n",
              "      <td>0.1278</td>\n",
              "      <td>0.0695</td>\n",
              "      <td>0.0173</td>\n",
              "      <td>0.0099</td>\n",
              "      <td>0.2921</td>\n",
              "      <td>0.2915</td>\n",
              "      <td>0.00</td>\n",
              "      <td>8</td>\n",
              "      <td>151.51</td>\n",
              "    </tr>\n",
              "    <tr>\n",
              "      <th>4</th>\n",
              "      <td>0.0788</td>\n",
              "      <td>0.0921</td>\n",
              "      <td>0.1196</td>\n",
              "      <td>0.1232</td>\n",
              "      <td>0.1000</td>\n",
              "      <td>0.0443</td>\n",
              "      <td>0.0330</td>\n",
              "      <td>0.2941</td>\n",
              "      <td>0.2932</td>\n",
              "      <td>0.25</td>\n",
              "      <td>340</td>\n",
              "      <td>93.24</td>\n",
              "    </tr>\n",
              "  </tbody>\n",
              "</table>\n",
              "</div>"
            ],
            "text/plain": [
              "       B1      B2      B3      B4  ...     B11  Salinity  TDS  Turbidity\n",
              "0  0.0936  0.1081  0.1319  0.1272  ...  0.2914      0.00    9     149.64\n",
              "1  0.0971  0.1092  0.1325  0.1302  ...  0.2913      0.00    6     151.11\n",
              "2  0.0924  0.1037  0.1246  0.1232  ...  0.2914      0.00    3     151.38\n",
              "3  0.0938  0.1070  0.1306  0.1278  ...  0.2915      0.00    8     151.51\n",
              "4  0.0788  0.0921  0.1196  0.1232  ...  0.2932      0.25  340      93.24\n",
              "\n",
              "[5 rows x 12 columns]"
            ]
          },
          "metadata": {
            "tags": []
          },
          "execution_count": 3
        }
      ]
    },
    {
      "cell_type": "code",
      "metadata": {
        "colab": {
          "base_uri": "https://localhost:8080/",
          "height": 308
        },
        "id": "Tso4T2Fv4SSS",
        "outputId": "6e1f3ed2-f4a7-4a6a-8f17-55a717f9a478"
      },
      "source": [
        "df.describe()"
      ],
      "execution_count": null,
      "outputs": [
        {
          "output_type": "execute_result",
          "data": {
            "text/html": [
              "<div>\n",
              "<style scoped>\n",
              "    .dataframe tbody tr th:only-of-type {\n",
              "        vertical-align: middle;\n",
              "    }\n",
              "\n",
              "    .dataframe tbody tr th {\n",
              "        vertical-align: top;\n",
              "    }\n",
              "\n",
              "    .dataframe thead th {\n",
              "        text-align: right;\n",
              "    }\n",
              "</style>\n",
              "<table border=\"1\" class=\"dataframe\">\n",
              "  <thead>\n",
              "    <tr style=\"text-align: right;\">\n",
              "      <th></th>\n",
              "      <th>B1</th>\n",
              "      <th>B2</th>\n",
              "      <th>B3</th>\n",
              "      <th>B4</th>\n",
              "      <th>B5</th>\n",
              "      <th>B6</th>\n",
              "      <th>B7</th>\n",
              "      <th>B10</th>\n",
              "      <th>B11</th>\n",
              "      <th>Salinity</th>\n",
              "      <th>TDS</th>\n",
              "      <th>Turbidity</th>\n",
              "    </tr>\n",
              "  </thead>\n",
              "  <tbody>\n",
              "    <tr>\n",
              "      <th>count</th>\n",
              "      <td>294.000000</td>\n",
              "      <td>294.000000</td>\n",
              "      <td>294.000000</td>\n",
              "      <td>294.000000</td>\n",
              "      <td>294.000000</td>\n",
              "      <td>294.000000</td>\n",
              "      <td>294.000000</td>\n",
              "      <td>294.000000</td>\n",
              "      <td>294.000000</td>\n",
              "      <td>294.000000</td>\n",
              "      <td>294.000000</td>\n",
              "      <td>294.000000</td>\n",
              "    </tr>\n",
              "    <tr>\n",
              "      <th>mean</th>\n",
              "      <td>0.075775</td>\n",
              "      <td>0.089362</td>\n",
              "      <td>0.114487</td>\n",
              "      <td>0.109296</td>\n",
              "      <td>0.070064</td>\n",
              "      <td>0.025152</td>\n",
              "      <td>0.017316</td>\n",
              "      <td>0.293389</td>\n",
              "      <td>0.292654</td>\n",
              "      <td>7.475782</td>\n",
              "      <td>7765.115646</td>\n",
              "      <td>110.082653</td>\n",
              "    </tr>\n",
              "    <tr>\n",
              "      <th>std</th>\n",
              "      <td>0.011800</td>\n",
              "      <td>0.011192</td>\n",
              "      <td>0.013082</td>\n",
              "      <td>0.023244</td>\n",
              "      <td>0.024373</td>\n",
              "      <td>0.015998</td>\n",
              "      <td>0.012223</td>\n",
              "      <td>0.000749</td>\n",
              "      <td>0.000667</td>\n",
              "      <td>10.303350</td>\n",
              "      <td>10544.019002</td>\n",
              "      <td>29.990492</td>\n",
              "    </tr>\n",
              "    <tr>\n",
              "      <th>min</th>\n",
              "      <td>0.048100</td>\n",
              "      <td>0.060400</td>\n",
              "      <td>0.083100</td>\n",
              "      <td>0.054200</td>\n",
              "      <td>0.019600</td>\n",
              "      <td>0.008100</td>\n",
              "      <td>0.005300</td>\n",
              "      <td>0.291800</td>\n",
              "      <td>0.291300</td>\n",
              "      <td>0.000000</td>\n",
              "      <td>0.000000</td>\n",
              "      <td>0.000000</td>\n",
              "    </tr>\n",
              "    <tr>\n",
              "      <th>25%</th>\n",
              "      <td>0.066775</td>\n",
              "      <td>0.081650</td>\n",
              "      <td>0.105125</td>\n",
              "      <td>0.094325</td>\n",
              "      <td>0.050725</td>\n",
              "      <td>0.014025</td>\n",
              "      <td>0.008625</td>\n",
              "      <td>0.292700</td>\n",
              "      <td>0.292025</td>\n",
              "      <td>0.200000</td>\n",
              "      <td>265.750000</td>\n",
              "      <td>99.037500</td>\n",
              "    </tr>\n",
              "    <tr>\n",
              "      <th>50%</th>\n",
              "      <td>0.078800</td>\n",
              "      <td>0.092100</td>\n",
              "      <td>0.119600</td>\n",
              "      <td>0.122300</td>\n",
              "      <td>0.073700</td>\n",
              "      <td>0.017650</td>\n",
              "      <td>0.010800</td>\n",
              "      <td>0.293700</td>\n",
              "      <td>0.292900</td>\n",
              "      <td>0.280000</td>\n",
              "      <td>371.000000</td>\n",
              "      <td>108.035000</td>\n",
              "    </tr>\n",
              "    <tr>\n",
              "      <th>75%</th>\n",
              "      <td>0.080300</td>\n",
              "      <td>0.093400</td>\n",
              "      <td>0.120500</td>\n",
              "      <td>0.123200</td>\n",
              "      <td>0.092375</td>\n",
              "      <td>0.034700</td>\n",
              "      <td>0.026100</td>\n",
              "      <td>0.294100</td>\n",
              "      <td>0.293200</td>\n",
              "      <td>20.557500</td>\n",
              "      <td>21332.000000</td>\n",
              "      <td>134.900000</td>\n",
              "    </tr>\n",
              "    <tr>\n",
              "      <th>max</th>\n",
              "      <td>0.099700</td>\n",
              "      <td>0.114900</td>\n",
              "      <td>0.139700</td>\n",
              "      <td>0.131900</td>\n",
              "      <td>0.128300</td>\n",
              "      <td>0.090200</td>\n",
              "      <td>0.067300</td>\n",
              "      <td>0.296100</td>\n",
              "      <td>0.295200</td>\n",
              "      <td>25.470000</td>\n",
              "      <td>25904.000000</td>\n",
              "      <td>151.920000</td>\n",
              "    </tr>\n",
              "  </tbody>\n",
              "</table>\n",
              "</div>"
            ],
            "text/plain": [
              "               B1          B2          B3  ...    Salinity           TDS   Turbidity\n",
              "count  294.000000  294.000000  294.000000  ...  294.000000    294.000000  294.000000\n",
              "mean     0.075775    0.089362    0.114487  ...    7.475782   7765.115646  110.082653\n",
              "std      0.011800    0.011192    0.013082  ...   10.303350  10544.019002   29.990492\n",
              "min      0.048100    0.060400    0.083100  ...    0.000000      0.000000    0.000000\n",
              "25%      0.066775    0.081650    0.105125  ...    0.200000    265.750000   99.037500\n",
              "50%      0.078800    0.092100    0.119600  ...    0.280000    371.000000  108.035000\n",
              "75%      0.080300    0.093400    0.120500  ...   20.557500  21332.000000  134.900000\n",
              "max      0.099700    0.114900    0.139700  ...   25.470000  25904.000000  151.920000\n",
              "\n",
              "[8 rows x 12 columns]"
            ]
          },
          "metadata": {
            "tags": []
          },
          "execution_count": 4
        }
      ]
    },
    {
      "cell_type": "code",
      "metadata": {
        "colab": {
          "base_uri": "https://localhost:8080/",
          "height": 339
        },
        "id": "ZpFFJM13Lkg1",
        "outputId": "b1dff9fa-94d9-4248-f35e-9bf5087edce7"
      },
      "source": [
        "A = df.corr()\n",
        "y_col = 'Salinity'\n",
        "f = plt.figure(figsize=(20,5))\n",
        "t = A[y_col].drop(['Salinity','TDS','Turbidity'])\n",
        "k = list(t.index)\n",
        "x = t.plot(rot=90,grid=True)\n",
        "x = plt.xticks(range(0,len(k)), k)\n",
        "plt.title('Correlation Coefficient of '+y_col+' vs feature')\n",
        "plt.xlabel('feature')\n",
        "plt.ylabel('Correlation Coefficient')\n",
        "plt.show()"
      ],
      "execution_count": null,
      "outputs": [
        {
          "output_type": "display_data",
          "data": {
            "image/png": "[encoded data removed]",
            "text/plain": [
              "<Figure size 1440x360 with 1 Axes>"
            ]
          },
          "metadata": {
            "tags": [],
            "needs_background": "light"
          }
        }
      ]
    },
    {
      "cell_type": "code",
      "metadata": {
        "colab": {
          "base_uri": "https://localhost:8080/"
        },
        "id": "BGsYVRy03XmL",
        "outputId": "f1e4a265-5852-44e7-d3c4-05d6a712b529"
      },
      "source": [
        "#df=df.drop(columns=['Unnamed: 19','Unnamed: 20', 'Unnamed: 21', 'Unnamed: 22', 'Unnamed: 23'])\n",
        "df=df.dropna()\n",
        "df.keys()"
      ],
      "execution_count": null,
      "outputs": [
        {
          "output_type": "execute_result",
          "data": {
            "text/plain": [
              "Index(['B1', 'B2', 'B3', 'B4', 'B5', 'B6', 'B7', 'B10', 'B11', 'Salinity',\n",
              "       'TDS', 'Turbidity'],\n",
              "      dtype='object')"
            ]
          },
          "metadata": {
            "tags": []
          },
          "execution_count": 5
        }
      ]
    },
    {
      "cell_type": "code",
      "metadata": {
        "colab": {
          "base_uri": "https://localhost:8080/"
        },
        "id": "vD284AyS9x4l",
        "outputId": "762eb125-659a-41db-9995-51c25ff13f8e"
      },
      "source": [
        "df.isnull().sum()"
      ],
      "execution_count": null,
      "outputs": [
        {
          "output_type": "execute_result",
          "data": {
            "text/plain": [
              "B1           0\n",
              "B2           0\n",
              "B3           0\n",
              "B4           0\n",
              "B5           0\n",
              "B6           0\n",
              "B7           0\n",
              "B10          0\n",
              "B11          0\n",
              "Salinity     0\n",
              "TDS          0\n",
              "Turbidity    0\n",
              "dtype: int64"
            ]
          },
          "metadata": {
            "tags": []
          },
          "execution_count": 6
        }
      ]
    },
    {
      "cell_type": "code",
      "metadata": {
        "id": "sFHJYVVw5k5n"
      },
      "source": [
        "df.keys()\n",
        "df1 =df"
      ],
      "execution_count": null,
      "outputs": []
    },
    {
      "cell_type": "code",
      "metadata": {
        "id": "pWkY4-jbSfaW"
      },
      "source": [
        "df1 = df.groupby('Salinity').mean()\n",
        "df1['Salinity'] = df1.index"
      ],
      "execution_count": null,
      "outputs": []
    },
    {
      "cell_type": "code",
      "metadata": {
        "colab": {
          "base_uri": "https://localhost:8080/",
          "height": 258
        },
        "id": "RVUngPEguAAr",
        "outputId": "32b9651b-3db0-4b19-e603-dc964e91238b"
      },
      "source": [
        "A=df1.corr()\n",
        "A=A[abs(A[ 'Salinity'])>=0.6]\n",
        "A"
      ],
      "execution_count": null,
      "outputs": [
        {
          "output_type": "execute_result",
          "data": {
            "text/html": [
              "<div>\n",
              "<style scoped>\n",
              "    .dataframe tbody tr th:only-of-type {\n",
              "        vertical-align: middle;\n",
              "    }\n",
              "\n",
              "    .dataframe tbody tr th {\n",
              "        vertical-align: top;\n",
              "    }\n",
              "\n",
              "    .dataframe thead th {\n",
              "        text-align: right;\n",
              "    }\n",
              "</style>\n",
              "<table border=\"1\" class=\"dataframe\">\n",
              "  <thead>\n",
              "    <tr style=\"text-align: right;\">\n",
              "      <th></th>\n",
              "      <th>B1</th>\n",
              "      <th>B2</th>\n",
              "      <th>B3</th>\n",
              "      <th>B4</th>\n",
              "      <th>B5</th>\n",
              "      <th>B6</th>\n",
              "      <th>B7</th>\n",
              "      <th>B10</th>\n",
              "      <th>B11</th>\n",
              "      <th>Salinity</th>\n",
              "      <th>TDS</th>\n",
              "      <th>Turbidity</th>\n",
              "    </tr>\n",
              "  </thead>\n",
              "  <tbody>\n",
              "    <tr>\n",
              "      <th>B1</th>\n",
              "      <td>1.000000</td>\n",
              "      <td>0.996045</td>\n",
              "      <td>0.975535</td>\n",
              "      <td>0.910393</td>\n",
              "      <td>0.577329</td>\n",
              "      <td>0.184573</td>\n",
              "      <td>0.181265</td>\n",
              "      <td>-0.428279</td>\n",
              "      <td>-0.527342</td>\n",
              "      <td>-0.864063</td>\n",
              "      <td>-0.862040</td>\n",
              "      <td>-0.377082</td>\n",
              "    </tr>\n",
              "    <tr>\n",
              "      <th>B2</th>\n",
              "      <td>0.996045</td>\n",
              "      <td>1.000000</td>\n",
              "      <td>0.981603</td>\n",
              "      <td>0.910541</td>\n",
              "      <td>0.555639</td>\n",
              "      <td>0.164274</td>\n",
              "      <td>0.161316</td>\n",
              "      <td>-0.443510</td>\n",
              "      <td>-0.543962</td>\n",
              "      <td>-0.853010</td>\n",
              "      <td>-0.850557</td>\n",
              "      <td>-0.368119</td>\n",
              "    </tr>\n",
              "    <tr>\n",
              "      <th>B3</th>\n",
              "      <td>0.975535</td>\n",
              "      <td>0.981603</td>\n",
              "      <td>1.000000</td>\n",
              "      <td>0.967109</td>\n",
              "      <td>0.641478</td>\n",
              "      <td>0.236244</td>\n",
              "      <td>0.239936</td>\n",
              "      <td>-0.347135</td>\n",
              "      <td>-0.463840</td>\n",
              "      <td>-0.898324</td>\n",
              "      <td>-0.895135</td>\n",
              "      <td>-0.405843</td>\n",
              "    </tr>\n",
              "    <tr>\n",
              "      <th>B4</th>\n",
              "      <td>0.910393</td>\n",
              "      <td>0.910541</td>\n",
              "      <td>0.967109</td>\n",
              "      <td>1.000000</td>\n",
              "      <td>0.771112</td>\n",
              "      <td>0.359949</td>\n",
              "      <td>0.370012</td>\n",
              "      <td>-0.180925</td>\n",
              "      <td>-0.311120</td>\n",
              "      <td>-0.932491</td>\n",
              "      <td>-0.928926</td>\n",
              "      <td>-0.441832</td>\n",
              "    </tr>\n",
              "    <tr>\n",
              "      <th>B5</th>\n",
              "      <td>0.577329</td>\n",
              "      <td>0.555639</td>\n",
              "      <td>0.641478</td>\n",
              "      <td>0.771112</td>\n",
              "      <td>1.000000</td>\n",
              "      <td>0.793970</td>\n",
              "      <td>0.800281</td>\n",
              "      <td>0.333021</td>\n",
              "      <td>0.230447</td>\n",
              "      <td>-0.787645</td>\n",
              "      <td>-0.788403</td>\n",
              "      <td>-0.352016</td>\n",
              "    </tr>\n",
              "    <tr>\n",
              "      <th>Salinity</th>\n",
              "      <td>-0.864063</td>\n",
              "      <td>-0.853010</td>\n",
              "      <td>-0.898324</td>\n",
              "      <td>-0.932491</td>\n",
              "      <td>-0.787645</td>\n",
              "      <td>-0.405628</td>\n",
              "      <td>-0.425187</td>\n",
              "      <td>0.109410</td>\n",
              "      <td>0.239474</td>\n",
              "      <td>1.000000</td>\n",
              "      <td>0.999772</td>\n",
              "      <td>0.422292</td>\n",
              "    </tr>\n",
              "    <tr>\n",
              "      <th>TDS</th>\n",
              "      <td>-0.862040</td>\n",
              "      <td>-0.850557</td>\n",
              "      <td>-0.895135</td>\n",
              "      <td>-0.928926</td>\n",
              "      <td>-0.788403</td>\n",
              "      <td>-0.408886</td>\n",
              "      <td>-0.428445</td>\n",
              "      <td>0.106489</td>\n",
              "      <td>0.235759</td>\n",
              "      <td>0.999772</td>\n",
              "      <td>1.000000</td>\n",
              "      <td>0.418153</td>\n",
              "    </tr>\n",
              "  </tbody>\n",
              "</table>\n",
              "</div>"
            ],
            "text/plain": [
              "                B1        B2        B3  ...  Salinity       TDS  Turbidity\n",
              "B1        1.000000  0.996045  0.975535  ... -0.864063 -0.862040  -0.377082\n",
              "B2        0.996045  1.000000  0.981603  ... -0.853010 -0.850557  -0.368119\n",
              "B3        0.975535  0.981603  1.000000  ... -0.898324 -0.895135  -0.405843\n",
              "B4        0.910393  0.910541  0.967109  ... -0.932491 -0.928926  -0.441832\n",
              "B5        0.577329  0.555639  0.641478  ... -0.787645 -0.788403  -0.352016\n",
              "Salinity -0.864063 -0.853010 -0.898324  ...  1.000000  0.999772   0.422292\n",
              "TDS      -0.862040 -0.850557 -0.895135  ...  0.999772  1.000000   0.418153\n",
              "\n",
              "[7 rows x 12 columns]"
            ]
          },
          "metadata": {
            "tags": []
          },
          "execution_count": 9
        }
      ]
    },
    {
      "cell_type": "code",
      "metadata": {
        "colab": {
          "base_uri": "https://localhost:8080/",
          "height": 266
        },
        "id": "px3zAqDFuKB1",
        "outputId": "e1a6b95a-3049-4dcb-b625-a74fa08493fb"
      },
      "source": [
        "A"
      ],
      "execution_count": null,
      "outputs": [
        {
          "output_type": "execute_result",
          "data": {
            "text/html": [
              "<div>\n",
              "<style scoped>\n",
              "    .dataframe tbody tr th:only-of-type {\n",
              "        vertical-align: middle;\n",
              "    }\n",
              "\n",
              "    .dataframe tbody tr th {\n",
              "        vertical-align: top;\n",
              "    }\n",
              "\n",
              "    .dataframe thead th {\n",
              "        text-align: right;\n",
              "    }\n",
              "</style>\n",
              "<table border=\"1\" class=\"dataframe\">\n",
              "  <thead>\n",
              "    <tr style=\"text-align: right;\">\n",
              "      <th></th>\n",
              "      <th>B1</th>\n",
              "      <th>B2</th>\n",
              "      <th>B3</th>\n",
              "      <th>B4</th>\n",
              "      <th>B5</th>\n",
              "      <th>B6</th>\n",
              "      <th>B7</th>\n",
              "      <th>B10</th>\n",
              "      <th>B11</th>\n",
              "      <th>Salinity</th>\n",
              "      <th>TDS</th>\n",
              "      <th>Turbidity</th>\n",
              "    </tr>\n",
              "  </thead>\n",
              "  <tbody>\n",
              "    <tr>\n",
              "      <th>B1</th>\n",
              "      <td>1.000000</td>\n",
              "      <td>0.996045</td>\n",
              "      <td>0.975535</td>\n",
              "      <td>0.910393</td>\n",
              "      <td>0.577329</td>\n",
              "      <td>0.184573</td>\n",
              "      <td>0.181265</td>\n",
              "      <td>-0.428279</td>\n",
              "      <td>-0.527342</td>\n",
              "      <td>-0.864063</td>\n",
              "      <td>-0.862040</td>\n",
              "      <td>-0.377082</td>\n",
              "    </tr>\n",
              "    <tr>\n",
              "      <th>B2</th>\n",
              "      <td>0.996045</td>\n",
              "      <td>1.000000</td>\n",
              "      <td>0.981603</td>\n",
              "      <td>0.910541</td>\n",
              "      <td>0.555639</td>\n",
              "      <td>0.164274</td>\n",
              "      <td>0.161316</td>\n",
              "      <td>-0.443510</td>\n",
              "      <td>-0.543962</td>\n",
              "      <td>-0.853010</td>\n",
              "      <td>-0.850557</td>\n",
              "      <td>-0.368119</td>\n",
              "    </tr>\n",
              "    <tr>\n",
              "      <th>B3</th>\n",
              "      <td>0.975535</td>\n",
              "      <td>0.981603</td>\n",
              "      <td>1.000000</td>\n",
              "      <td>0.967109</td>\n",
              "      <td>0.641478</td>\n",
              "      <td>0.236244</td>\n",
              "      <td>0.239936</td>\n",
              "      <td>-0.347135</td>\n",
              "      <td>-0.463840</td>\n",
              "      <td>-0.898324</td>\n",
              "      <td>-0.895135</td>\n",
              "      <td>-0.405843</td>\n",
              "    </tr>\n",
              "    <tr>\n",
              "      <th>B4</th>\n",
              "      <td>0.910393</td>\n",
              "      <td>0.910541</td>\n",
              "      <td>0.967109</td>\n",
              "      <td>1.000000</td>\n",
              "      <td>0.771112</td>\n",
              "      <td>0.359949</td>\n",
              "      <td>0.370012</td>\n",
              "      <td>-0.180925</td>\n",
              "      <td>-0.311120</td>\n",
              "      <td>-0.932491</td>\n",
              "      <td>-0.928926</td>\n",
              "      <td>-0.441832</td>\n",
              "    </tr>\n",
              "    <tr>\n",
              "      <th>B5</th>\n",
              "      <td>0.577329</td>\n",
              "      <td>0.555639</td>\n",
              "      <td>0.641478</td>\n",
              "      <td>0.771112</td>\n",
              "      <td>1.000000</td>\n",
              "      <td>0.793970</td>\n",
              "      <td>0.800281</td>\n",
              "      <td>0.333021</td>\n",
              "      <td>0.230447</td>\n",
              "      <td>-0.787645</td>\n",
              "      <td>-0.788403</td>\n",
              "      <td>-0.352016</td>\n",
              "    </tr>\n",
              "    <tr>\n",
              "      <th>Salinity</th>\n",
              "      <td>-0.864063</td>\n",
              "      <td>-0.853010</td>\n",
              "      <td>-0.898324</td>\n",
              "      <td>-0.932491</td>\n",
              "      <td>-0.787645</td>\n",
              "      <td>-0.405628</td>\n",
              "      <td>-0.425187</td>\n",
              "      <td>0.109410</td>\n",
              "      <td>0.239474</td>\n",
              "      <td>1.000000</td>\n",
              "      <td>0.999772</td>\n",
              "      <td>0.422292</td>\n",
              "    </tr>\n",
              "    <tr>\n",
              "      <th>TDS</th>\n",
              "      <td>-0.862040</td>\n",
              "      <td>-0.850557</td>\n",
              "      <td>-0.895135</td>\n",
              "      <td>-0.928926</td>\n",
              "      <td>-0.788403</td>\n",
              "      <td>-0.408886</td>\n",
              "      <td>-0.428445</td>\n",
              "      <td>0.106489</td>\n",
              "      <td>0.235759</td>\n",
              "      <td>0.999772</td>\n",
              "      <td>1.000000</td>\n",
              "      <td>0.418153</td>\n",
              "    </tr>\n",
              "  </tbody>\n",
              "</table>\n",
              "</div>"
            ],
            "text/plain": [
              "                B1        B2        B3  ...  Salinity       TDS  Turbidity\n",
              "B1        1.000000  0.996045  0.975535  ... -0.864063 -0.862040  -0.377082\n",
              "B2        0.996045  1.000000  0.981603  ... -0.853010 -0.850557  -0.368119\n",
              "B3        0.975535  0.981603  1.000000  ... -0.898324 -0.895135  -0.405843\n",
              "B4        0.910393  0.910541  0.967109  ... -0.932491 -0.928926  -0.441832\n",
              "B5        0.577329  0.555639  0.641478  ... -0.787645 -0.788403  -0.352016\n",
              "Salinity -0.864063 -0.853010 -0.898324  ...  1.000000  0.999772   0.422292\n",
              "TDS      -0.862040 -0.850557 -0.895135  ...  0.999772  1.000000   0.418153\n",
              "\n",
              "[7 rows x 12 columns]"
            ]
          },
          "metadata": {
            "tags": []
          },
          "execution_count": 9
        }
      ]
    },
    {
      "cell_type": "code",
      "metadata": {
        "id": "Xy_Np8ScuLHK",
        "colab": {
          "base_uri": "https://localhost:8080/"
        },
        "outputId": "35c2176b-8fc9-40d7-eca7-dd5d1beaf0f9"
      },
      "source": [
        "A.keys()"
      ],
      "execution_count": null,
      "outputs": [
        {
          "output_type": "execute_result",
          "data": {
            "text/plain": [
              "Index(['B1', 'B2', 'B3', 'B4', 'B5', 'B6', 'B7', 'B10', 'B11', 'Salinity',\n",
              "       'TDS', 'Turbidity'],\n",
              "      dtype='object')"
            ]
          },
          "metadata": {
            "tags": []
          },
          "execution_count": 9
        }
      ]
    },
    {
      "cell_type": "code",
      "metadata": {
        "id": "W9fAT9Sv0bPw"
      },
      "source": [
        "X=df1[[ 'B1','B2', 'B3', 'B4', 'B5']]\n",
        "y=df1[['Salinity']]"
      ],
      "execution_count": null,
      "outputs": []
    },
    {
      "cell_type": "code",
      "metadata": {
        "colab": {
          "base_uri": "https://localhost:8080/"
        },
        "id": "YNzXQAbUw3pD",
        "outputId": "aaba9133-5d7d-4923-dc45-cfeaeb9c3f42"
      },
      "source": [
        "# scaler=StandardScaler()\n",
        "scaler = MinMaxScaler()\n",
        "scaler.fit(X)\n",
        "scaler1 = MinMaxScaler()\n",
        "# scaler1=StandardScaler()\n",
        "scaler1.fit(y)"
      ],
      "execution_count": null,
      "outputs": [
        {
          "output_type": "execute_result",
          "data": {
            "text/plain": [
              "MinMaxScaler(copy=True, feature_range=(0, 1))"
            ]
          },
          "metadata": {
            "tags": []
          },
          "execution_count": 11
        }
      ]
    },
    {
      "cell_type": "code",
      "metadata": {
        "id": "_UD0wqm_znbQ"
      },
      "source": [
        "scaled_data_X=scaler.transform(X)\n",
        "scaled_data_y=scaler1.transform(y)"
      ],
      "execution_count": null,
      "outputs": []
    },
    {
      "cell_type": "code",
      "metadata": {
        "id": "wf3G9a83_Wa9",
        "colab": {
          "base_uri": "https://localhost:8080/"
        },
        "outputId": "27cf7329-d837-49b4-c51c-5ae3285090b8"
      },
      "source": [
        "scaled_data_y"
      ],
      "execution_count": null,
      "outputs": [
        {
          "output_type": "execute_result",
          "data": {
            "text/plain": [
              "array([[0.00000000e+00],\n",
              "       [0.00000000e+00],\n",
              "       [0.00000000e+00],\n",
              "       [0.00000000e+00],\n",
              "       [9.81546918e-03],\n",
              "       [9.81546918e-03],\n",
              "       [9.81546918e-03],\n",
              "       [3.92618767e-02],\n",
              "       [5.88928151e-02],\n",
              "       [6.77267373e-01],\n",
              "       [8.34314880e-01],\n",
              "       [9.22654103e-01],\n",
              "       [8.93207695e-01],\n",
              "       [9.32469572e-01],\n",
              "       [1.52336082e-01],\n",
              "       [3.34511190e-01],\n",
              "       [7.08284256e-01],\n",
              "       [9.43855516e-01],\n",
              "       [3.53356890e-03],\n",
              "       [3.53356890e-03],\n",
              "       [3.53356890e-03],\n",
              "       [3.53356890e-03],\n",
              "       [3.53356890e-03],\n",
              "       [3.53356890e-03],\n",
              "       [3.53356890e-03],\n",
              "       [7.06713781e-03],\n",
              "       [7.06713781e-03],\n",
              "       [7.06713781e-03],\n",
              "       [7.06713781e-03],\n",
              "       [7.06713781e-03],\n",
              "       [7.06713781e-03],\n",
              "       [7.06713781e-03],\n",
              "       [7.06713781e-03],\n",
              "       [6.63525717e-02],\n",
              "       [9.53670985e-01],\n",
              "       [4.62112289e-01],\n",
              "       [8.84962701e-01],\n",
              "       [9.24224578e-01],\n",
              "       [9.34040047e-01],\n",
              "       [9.55241461e-01],\n",
              "       [9.74872399e-01],\n",
              "       [9.74872399e-01],\n",
              "       [9.46996466e-01],\n",
              "       [9.56811936e-01],\n",
              "       [6.91794268e-01],\n",
              "       [4.31880644e-03],\n",
              "       [8.63761288e-03],\n",
              "       [8.63761288e-03],\n",
              "       [8.63761288e-03],\n",
              "       [8.63761288e-03],\n",
              "       [8.63761288e-03],\n",
              "       [8.63761288e-03],\n",
              "       [8.63761288e-03],\n",
              "       [8.63761288e-03],\n",
              "       [8.63761288e-03],\n",
              "       [8.63761288e-03],\n",
              "       [8.63761288e-03],\n",
              "       [1.72752258e-02],\n",
              "       [4.94699647e-02],\n",
              "       [4.94699647e-02],\n",
              "       [9.19120534e-01],\n",
              "       [8.89674126e-01],\n",
              "       [9.38751472e-01],\n",
              "       [9.50137417e-01],\n",
              "       [9.50137417e-01],\n",
              "       [9.89399293e-01],\n",
              "       [5.88928151e-03],\n",
              "       [5.88928151e-03],\n",
              "       [5.88928151e-03],\n",
              "       [1.17785630e-02],\n",
              "       [6.67451904e-02],\n",
              "       [9.30506478e-01],\n",
              "       [9.01060071e-01],\n",
              "       [2.23792697e-02],\n",
              "       [3.21947389e-02],\n",
              "       [9.61523361e-01],\n",
              "       [9.61523361e-01],\n",
              "       [9.61523361e-01],\n",
              "       [4.26776600e-01],\n",
              "       [6.23085984e-01],\n",
              "       [1.06007067e-02],\n",
              "       [1.06007067e-02],\n",
              "       [1.06007067e-02],\n",
              "       [1.06007067e-02],\n",
              "       [1.06007067e-02],\n",
              "       [1.06007067e-02],\n",
              "       [1.06007067e-02],\n",
              "       [1.06007067e-02],\n",
              "       [1.06007067e-02],\n",
              "       [1.06007067e-02],\n",
              "       [1.06007067e-02],\n",
              "       [6.20337652e-02],\n",
              "       [6.20337652e-02],\n",
              "       [8.84570082e-01],\n",
              "       [9.23831959e-01],\n",
              "       [9.33647428e-01],\n",
              "       [9.84295249e-01],\n",
              "       [9.54848842e-01],\n",
              "       [7.45975658e-03],\n",
              "       [7.45975658e-03],\n",
              "       [7.45975658e-03],\n",
              "       [7.45975658e-03],\n",
              "       [7.45975658e-03],\n",
              "       [7.45975658e-03],\n",
              "       [7.45975658e-03],\n",
              "       [9.25402434e-01],\n",
              "       [1.34275618e-01],\n",
              "       [8.87711033e-01],\n",
              "       [5.86179819e-01],\n",
              "       [8.97526502e-01],\n",
              "       [8.69650569e-01],\n",
              "       [9.08912446e-01],\n",
              "       [9.48174323e-01],\n",
              "       [6.16411464e-01],\n",
              "       [9.18727915e-01],\n",
              "       [9.18727915e-01],\n",
              "       [9.97251669e-01],\n",
              "       [4.88810365e-01],\n",
              "       [7.81311347e-01],\n",
              "       [8.99096977e-01],\n",
              "       [7.92697291e-01],\n",
              "       [8.55908912e-02],\n",
              "       [3.81625442e-01],\n",
              "       [9.03023165e-03],\n",
              "       [9.03023165e-03],\n",
              "       [9.03023165e-03],\n",
              "       [9.03023165e-03],\n",
              "       [9.03023165e-03],\n",
              "       [9.03023165e-03],\n",
              "       [9.03023165e-03],\n",
              "       [9.03023165e-03],\n",
              "       [1.80604633e-02],\n",
              "       [8.51590106e-01],\n",
              "       [7.43619945e-01],\n",
              "       [9.21868865e-01],\n",
              "       [3.92618767e-04],\n",
              "       [3.92618767e-04],\n",
              "       [7.85237534e-04],\n",
              "       [3.14095014e-03],\n",
              "       [3.14095014e-03],\n",
              "       [3.14095014e-03],\n",
              "       [6.28190027e-03],\n",
              "       [6.28190027e-03],\n",
              "       [6.28190027e-03],\n",
              "       [6.28190027e-03],\n",
              "       [1.25638005e-02],\n",
              "       [4.90380840e-01],\n",
              "       [9.02237927e-01],\n",
              "       [9.80761680e-01],\n",
              "       [9.52885748e-01],\n",
              "       [1.25245387e-01],\n",
              "       [9.62701217e-01],\n",
              "       [1.68826070e-02],\n",
              "       [9.33254810e-01],\n",
              "       [9.72516686e-01],\n",
              "       [9.83902631e-01],\n",
              "       [8.75932470e-01],\n",
              "       [9.54456223e-01],\n",
              "       [2.31252454e-01],\n",
              "       [2.31252454e-01],\n",
              "       [9.64271692e-01],\n",
              "       [1.13859442e-02],\n",
              "       [1.13859442e-02],\n",
              "       [1.13859442e-02],\n",
              "       [1.13859442e-02],\n",
              "       [1.13859442e-02],\n",
              "       [1.13859442e-02],\n",
              "       [1.13859442e-02],\n",
              "       [1.13859442e-02],\n",
              "       [9.56026698e-01],\n",
              "       [3.92618767e-03],\n",
              "       [3.92618767e-03],\n",
              "       [3.92618767e-03],\n",
              "       [3.92618767e-03],\n",
              "       [7.85237534e-03],\n",
              "       [7.85237534e-03],\n",
              "       [7.85237534e-03],\n",
              "       [7.85237534e-03],\n",
              "       [7.85237534e-03],\n",
              "       [7.85237534e-03],\n",
              "       [7.85237534e-03],\n",
              "       [7.85237534e-03],\n",
              "       [7.85237534e-03],\n",
              "       [7.85237534e-03],\n",
              "       [7.85237534e-03],\n",
              "       [7.85237534e-03],\n",
              "       [6.33686690e-01],\n",
              "       [8.39811543e-01],\n",
              "       [9.18335296e-01],\n",
              "       [9.96859050e-01],\n",
              "       [5.10404397e-03],\n",
              "       [5.10404397e-03],\n",
              "       [5.10404397e-03],\n",
              "       [5.10404397e-03],\n",
              "       [5.10404397e-03],\n",
              "       [1.02080879e-02],\n",
              "       [1.02080879e-02],\n",
              "       [9.77228112e-01],\n",
              "       [3.17628583e-01],\n",
              "       [4.55045151e-01],\n",
              "       [5.13937966e-01],\n",
              "       [9.59167648e-01],\n",
              "       [8.11935611e-01],\n",
              "       [9.29721241e-01],\n",
              "       [5.81075775e-02],\n",
              "       [7.82489203e-01],\n",
              "       [9.39536710e-01],\n",
              "       [9.39536710e-01],\n",
              "       [9.21476247e-01],\n",
              "       [1.00000000e+00],\n",
              "       [1.17785630e-03],\n",
              "       [2.35571260e-03],\n",
              "       [2.35571260e-03],\n",
              "       [2.35571260e-03],\n",
              "       [2.35571260e-03],\n",
              "       [2.35571260e-03],\n",
              "       [2.35571260e-03],\n",
              "       [2.35571260e-03],\n",
              "       [4.71142521e-03],\n",
              "       [4.71142521e-03],\n",
              "       [4.71142521e-03],\n",
              "       [9.42285041e-03],\n",
              "       [9.42285041e-03],\n",
              "       [9.42285041e-03],\n",
              "       [9.42285041e-03],\n",
              "       [9.42285041e-03],\n",
              "       [9.42285041e-03],\n",
              "       [9.42285041e-03],\n",
              "       [9.42285041e-03],\n",
              "       [9.72124068e-01],\n",
              "       [6.67451904e-03],\n",
              "       [6.67451904e-03],\n",
              "       [6.67451904e-03],\n",
              "       [6.67451904e-03],\n",
              "       [9.44248135e-01],\n",
              "       [9.83510012e-01],\n",
              "       [5.35924617e-01],\n",
              "       [8.24499411e-02],\n",
              "       [4.12249706e-02],\n",
              "       [8.67294857e-01],\n",
              "       [3.89477817e-01],\n",
              "       [9.08127208e-01],\n",
              "       [4.49155870e-01],\n",
              "       [9.37573616e-01],\n",
              "       [8.24499411e-03],\n",
              "       [8.24499411e-03],\n",
              "       [8.24499411e-03],\n",
              "       [8.24499411e-03],\n",
              "       [8.24499411e-03],\n",
              "       [8.24499411e-03],\n",
              "       [8.24499411e-03],\n",
              "       [8.24499411e-03],\n",
              "       [8.24499411e-03],\n",
              "       [8.24499411e-03],\n",
              "       [8.24499411e-03],\n",
              "       [8.90066745e-01],\n",
              "       [9.29328622e-01],\n",
              "       [7.42834707e-01],\n",
              "       [9.78405968e-01],\n",
              "       [2.74833137e-03],\n",
              "       [2.74833137e-03],\n",
              "       [5.49666274e-03],\n",
              "       [5.49666274e-03],\n",
              "       [5.49666274e-03],\n",
              "       [5.49666274e-03],\n",
              "       [5.49666274e-03],\n",
              "       [1.09933255e-02],\n",
              "       [1.09933255e-02],\n",
              "       [1.09933255e-02],\n",
              "       [1.09933255e-02],\n",
              "       [1.09933255e-02],\n",
              "       [1.09933255e-02],\n",
              "       [1.09933255e-02],\n",
              "       [1.09933255e-02],\n",
              "       [1.09933255e-02],\n",
              "       [1.09933255e-02],\n",
              "       [1.09933255e-02],\n",
              "       [1.09933255e-02],\n",
              "       [1.09933255e-02],\n",
              "       [1.09933255e-02],\n",
              "       [1.09933255e-02],\n",
              "       [1.09933255e-02],\n",
              "       [1.09933255e-02],\n",
              "       [1.09933255e-02],\n",
              "       [1.09933255e-02],\n",
              "       [1.09933255e-02],\n",
              "       [1.09933255e-02],\n",
              "       [1.09933255e-02],\n",
              "       [1.09933255e-02],\n",
              "       [1.09933255e-02],\n",
              "       [3.18021201e-02],\n",
              "       [5.39065567e-01],\n",
              "       [9.30899097e-01],\n",
              "       [7.10639969e-02]])"
            ]
          },
          "metadata": {
            "tags": []
          },
          "execution_count": 13
        }
      ]
    },
    {
      "cell_type": "code",
      "metadata": {
        "id": "SuuaxjBuz2Zi"
      },
      "source": [
        "scaled_data_X=pd.DataFrame(scaled_data_X)\n",
        "scaled_data_X.columns=[ 'B1','B2', 'B3', 'B4', 'B5']"
      ],
      "execution_count": null,
      "outputs": []
    },
    {
      "cell_type": "code",
      "metadata": {
        "colab": {
          "base_uri": "https://localhost:8080/",
          "height": 408
        },
        "id": "DxGIjsvGz8C2",
        "outputId": "99dd93bc-2833-4add-a8ca-72358bc95cee"
      },
      "source": [
        "scaled_data_X"
      ],
      "execution_count": null,
      "outputs": [
        {
          "output_type": "execute_result",
          "data": {
            "text/html": [
              "<div>\n",
              "<style scoped>\n",
              "    .dataframe tbody tr th:only-of-type {\n",
              "        vertical-align: middle;\n",
              "    }\n",
              "\n",
              "    .dataframe tbody tr th {\n",
              "        vertical-align: top;\n",
              "    }\n",
              "\n",
              "    .dataframe thead th {\n",
              "        text-align: right;\n",
              "    }\n",
              "</style>\n",
              "<table border=\"1\" class=\"dataframe\">\n",
              "  <thead>\n",
              "    <tr style=\"text-align: right;\">\n",
              "      <th></th>\n",
              "      <th>B1</th>\n",
              "      <th>B2</th>\n",
              "      <th>B3</th>\n",
              "      <th>B4</th>\n",
              "      <th>B5</th>\n",
              "    </tr>\n",
              "  </thead>\n",
              "  <tbody>\n",
              "    <tr>\n",
              "      <th>0</th>\n",
              "      <td>0.881783</td>\n",
              "      <td>0.875229</td>\n",
              "      <td>0.862191</td>\n",
              "      <td>0.939511</td>\n",
              "      <td>0.385465</td>\n",
              "    </tr>\n",
              "    <tr>\n",
              "      <th>1</th>\n",
              "      <td>0.949612</td>\n",
              "      <td>0.895413</td>\n",
              "      <td>0.872792</td>\n",
              "      <td>0.978121</td>\n",
              "      <td>0.448022</td>\n",
              "    </tr>\n",
              "    <tr>\n",
              "      <th>2</th>\n",
              "      <td>0.858527</td>\n",
              "      <td>0.794495</td>\n",
              "      <td>0.733216</td>\n",
              "      <td>0.888031</td>\n",
              "      <td>0.563937</td>\n",
              "    </tr>\n",
              "    <tr>\n",
              "      <th>3</th>\n",
              "      <td>0.885659</td>\n",
              "      <td>0.855046</td>\n",
              "      <td>0.839223</td>\n",
              "      <td>0.947233</td>\n",
              "      <td>0.459062</td>\n",
              "    </tr>\n",
              "    <tr>\n",
              "      <th>4</th>\n",
              "      <td>0.594961</td>\n",
              "      <td>0.581651</td>\n",
              "      <td>0.644876</td>\n",
              "      <td>0.888031</td>\n",
              "      <td>0.739650</td>\n",
              "    </tr>\n",
              "    <tr>\n",
              "      <th>...</th>\n",
              "      <td>...</td>\n",
              "      <td>...</td>\n",
              "      <td>...</td>\n",
              "      <td>...</td>\n",
              "      <td>...</td>\n",
              "    </tr>\n",
              "    <tr>\n",
              "      <th>289</th>\n",
              "      <td>0.637597</td>\n",
              "      <td>0.592661</td>\n",
              "      <td>0.616608</td>\n",
              "      <td>0.857143</td>\n",
              "      <td>0.855566</td>\n",
              "    </tr>\n",
              "    <tr>\n",
              "      <th>290</th>\n",
              "      <td>0.647287</td>\n",
              "      <td>0.620183</td>\n",
              "      <td>0.653710</td>\n",
              "      <td>0.880309</td>\n",
              "      <td>0.572217</td>\n",
              "    </tr>\n",
              "    <tr>\n",
              "      <th>291</th>\n",
              "      <td>0.639535</td>\n",
              "      <td>0.634862</td>\n",
              "      <td>0.703180</td>\n",
              "      <td>0.893179</td>\n",
              "      <td>0.395584</td>\n",
              "    </tr>\n",
              "    <tr>\n",
              "      <th>292</th>\n",
              "      <td>0.201550</td>\n",
              "      <td>0.207339</td>\n",
              "      <td>0.134276</td>\n",
              "      <td>0.115830</td>\n",
              "      <td>0.221711</td>\n",
              "    </tr>\n",
              "    <tr>\n",
              "      <th>293</th>\n",
              "      <td>0.637597</td>\n",
              "      <td>0.611009</td>\n",
              "      <td>0.669611</td>\n",
              "      <td>0.895753</td>\n",
              "      <td>0.545538</td>\n",
              "    </tr>\n",
              "  </tbody>\n",
              "</table>\n",
              "<p>294 rows × 5 columns</p>\n",
              "</div>"
            ],
            "text/plain": [
              "           B1        B2        B3        B4        B5\n",
              "0    0.881783  0.875229  0.862191  0.939511  0.385465\n",
              "1    0.949612  0.895413  0.872792  0.978121  0.448022\n",
              "2    0.858527  0.794495  0.733216  0.888031  0.563937\n",
              "3    0.885659  0.855046  0.839223  0.947233  0.459062\n",
              "4    0.594961  0.581651  0.644876  0.888031  0.739650\n",
              "..        ...       ...       ...       ...       ...\n",
              "289  0.637597  0.592661  0.616608  0.857143  0.855566\n",
              "290  0.647287  0.620183  0.653710  0.880309  0.572217\n",
              "291  0.639535  0.634862  0.703180  0.893179  0.395584\n",
              "292  0.201550  0.207339  0.134276  0.115830  0.221711\n",
              "293  0.637597  0.611009  0.669611  0.895753  0.545538\n",
              "\n",
              "[294 rows x 5 columns]"
            ]
          },
          "metadata": {
            "tags": []
          },
          "execution_count": 15
        }
      ]
    },
    {
      "cell_type": "code",
      "metadata": {
        "id": "Hapr0fw90Wz-"
      },
      "source": [
        "def build_nn_model(lr):\n",
        "    model=keras.Sequential([layers.Dense(32,activation='relu',input_shape=(1,)),\n",
        "                            layers.Dense(16,activation='relu'),\n",
        "                            layers.Dense(1,activation='sigmoid')])\n",
        "    optimizer=tf.keras.optimizers.Adam(lr)\n",
        "    model.compile(loss='mae',\n",
        "                  optimizer=optimizer,\n",
        "                  metrics=['mae','mse'])\n",
        "    return model"
      ],
      "execution_count": null,
      "outputs": []
    },
    {
      "cell_type": "code",
      "metadata": {
        "id": "QRUz4pRyAgj9"
      },
      "source": [
        "X_train, X_test, Y_train, Y_test = train_test_split(X, y, test_size=0.10, random_state=33)"
      ],
      "execution_count": null,
      "outputs": []
    },
    {
      "cell_type": "code",
      "metadata": {
        "colab": {
          "base_uri": "https://localhost:8080/"
        },
        "id": "ie4gOKJgBHNr",
        "outputId": "f4b285ac-a828-4a14-89db-06e61de84a23"
      },
      "source": [
        "from sklearn import linear_model\n",
        "reg=linear_model.LinearRegression()\n",
        "# reg=linear_model.Ridge(alpha=0.1)\n",
        "# reg = linear_model.Lasso(alpha=0.1)\n",
        "reg.fit(X_train,Y_train)"
      ],
      "execution_count": null,
      "outputs": [
        {
          "output_type": "execute_result",
          "data": {
            "text/plain": [
              "LinearRegression(copy_X=True, fit_intercept=True, n_jobs=None, normalize=False)"
            ]
          },
          "metadata": {
            "tags": []
          },
          "execution_count": 59
        }
      ]
    },
    {
      "cell_type": "code",
      "metadata": {
        "colab": {
          "base_uri": "https://localhost:8080/"
        },
        "id": "gZFqCD6vBd12",
        "outputId": "472f29dc-4a65-4186-ff3a-0fe1337e940e"
      },
      "source": [
        "# reg.coef_ = reg.coef_.reshape(1,-1)\n",
        "reg.coef_"
      ],
      "execution_count": null,
      "outputs": [
        {
          "output_type": "execute_result",
          "data": {
            "text/plain": [
              "array([[-1007.97803415,  1136.67876083,  -406.11910056,  -154.47038265,\n",
              "          -86.22381868]])"
            ]
          },
          "metadata": {
            "tags": []
          },
          "execution_count": 60
        }
      ]
    },
    {
      "cell_type": "code",
      "metadata": {
        "colab": {
          "base_uri": "https://localhost:8080/"
        },
        "id": "rajg4nk3Bg5_",
        "outputId": "631eec33-1c62-4c00-bfcf-4f5ef8f06e25"
      },
      "source": [
        "reg.intercept_"
      ],
      "execution_count": null,
      "outputs": [
        {
          "output_type": "execute_result",
          "data": {
            "text/plain": [
              "array([51.73211507])"
            ]
          },
          "metadata": {
            "tags": []
          },
          "execution_count": 61
        }
      ]
    },
    {
      "cell_type": "code",
      "metadata": {
        "id": "IJNh8ay3OULF"
      },
      "source": [
        "coeff = tuple(reg.coef_)+tuple(reg.intercept_)"
      ],
      "execution_count": null,
      "outputs": []
    },
    {
      "cell_type": "code",
      "metadata": {
        "colab": {
          "base_uri": "https://localhost:8080/"
        },
        "id": "zK0hEKOjsyYa",
        "outputId": "b013dff8-9b78-4719-917f-e0a7bc0d6bde"
      },
      "source": [
        "print(\"{}*B1+{}*B2+{}*B3+{}*B4+{}*B5+{}\".format(reg.coef_[0,0],reg.coef_[0,1],reg.coef_[0,2],reg.coef_[0,3],reg.coef_[0,4],reg.intercept_[0]))"
      ],
      "execution_count": null,
      "outputs": [
        {
          "output_type": "stream",
          "text": [
            "-1007.9780341451489*B1+1136.6787608261338*B2+-406.11910056202225*B3+-154.4703826501434*B4+-86.223818680173*B5+51.732115069019365\n"
          ],
          "name": "stdout"
        }
      ]
    },
    {
      "cell_type": "code",
      "metadata": {
        "colab": {
          "base_uri": "https://localhost:8080/"
        },
        "id": "qGJC7JnaBlrB",
        "outputId": "c09a6f51-59ac-448e-c53c-dfd5b90980a7"
      },
      "source": [
        "print(reg.score(X_test,Y_test),reg.score(X_train,Y_train))"
      ],
      "execution_count": null,
      "outputs": [
        {
          "output_type": "stream",
          "text": [
            "0.921185350826001 0.8920064676817142\n"
          ],
          "name": "stdout"
        }
      ]
    },
    {
      "cell_type": "code",
      "metadata": {
        "colab": {
          "base_uri": "https://localhost:8080/"
        },
        "id": "usZR84-ZXlj7",
        "outputId": "f76eecb7-0794-43ef-f433-2fdd089bb0ee"
      },
      "source": [
        "scaler1.inverse_transform([[1.0]])"
      ],
      "execution_count": null,
      "outputs": [
        {
          "output_type": "execute_result",
          "data": {
            "text/plain": [
              "array([[25.47]])"
            ]
          },
          "metadata": {
            "tags": []
          },
          "execution_count": 22
        }
      ]
    },
    {
      "cell_type": "code",
      "metadata": {
        "colab": {
          "base_uri": "https://localhost:8080/"
        },
        "id": "KpfQondfLqn-",
        "outputId": "ef6654a0-22b8-462a-aff4-179d4f6ccfde"
      },
      "source": [
        "1/scaler1.scale_"
      ],
      "execution_count": null,
      "outputs": [
        {
          "output_type": "execute_result",
          "data": {
            "text/plain": [
              "array([25.47])"
            ]
          },
          "metadata": {
            "tags": []
          },
          "execution_count": 28
        }
      ]
    },
    {
      "cell_type": "code",
      "metadata": {
        "id": "FMCynYojCHRN",
        "colab": {
          "base_uri": "https://localhost:8080/"
        },
        "outputId": "58bb2528-d583-4118-8b8c-faf7a34b9df5"
      },
      "source": [
        "A = MinMaxScaler()\n",
        "A.fit([[-0.0180,]])"
      ],
      "execution_count": null,
      "outputs": [
        {
          "output_type": "execute_result",
          "data": {
            "text/plain": [
              "(array([13.9975]), array([10.45973686]))"
            ]
          },
          "metadata": {
            "tags": []
          },
          "execution_count": 158
        }
      ]
    },
    {
      "cell_type": "code",
      "metadata": {
        "id": "1tKj5M3rY9n0"
      },
      "source": [
        "df.describe()\n"
      ],
      "execution_count": null,
      "outputs": []
    },
    {
      "cell_type": "code",
      "metadata": {
        "id": "ZNzaMaBPBqZW",
        "colab": {
          "base_uri": "https://localhost:8080/",
          "height": 312
        },
        "outputId": "8477b2d1-6194-4988-a1be-6ed934553620"
      },
      "source": [
        "X_t = X_test.to_numpy()\n",
        "Y_t = Y_test.to_numpy()\n",
        "\n",
        "pred = reg.predict(X_t).reshape(-1,1)\n",
        "plt.plot(pred-Y_t,'bo')\n",
        "plt.plot(Y_t-Y_t,'r',ls='--')\n",
        "plt.xlabel('i')\n",
        "plt.ylabel('Residual')\n",
        "plt.legend(['Residuals','Zero Residuals'])\n",
        "plt.title('(i)Residual values in testset')"
      ],
      "execution_count": null,
      "outputs": [
        {
          "output_type": "execute_result",
          "data": {
            "text/plain": [
              "Text(0.5, 1.0, '(i)Residual values in testset')"
            ]
          },
          "metadata": {
            "tags": []
          },
          "execution_count": 98
        },
        {
          "output_type": "display_data",
          "data": {
            "image/png": "[encoded data removed]",
            "text/plain": [
              "<Figure size 432x288 with 1 Axes>"
            ]
          },
          "metadata": {
            "tags": [],
            "needs_background": "light"
          }
        }
      ]
    },
    {
      "cell_type": "code",
      "metadata": {
        "id": "y5juWo0xBQ0M",
        "colab": {
          "base_uri": "https://localhost:8080/",
          "height": 295
        },
        "outputId": "7b15b930-eb9d-40e8-9807-0ae088c1dbc2"
      },
      "source": [
        "X_t = X_test.to_numpy()\n",
        "Y_t = Y_test.to_numpy()\n",
        "pred = reg.predict(X_t).reshape(-1,1)\n",
        "MSres = np.sum((pred-Y_t)**2)/(pred.shape[0]-2)\n",
        "plt.plot((pred.flatten()-Y_t.flatten())/math.sqrt(MSres),'ro')\n",
        "plt.title('(i)Standarized Residuals in testset')\n",
        "plt.xlabel('i')\n",
        "plt.ylabel('Residuals')\n",
        "plt.grid(axis='y')"
      ],
      "execution_count": null,
      "outputs": [
        {
          "output_type": "display_data",
          "data": {
            "image/png": "[encoded data removed]",
            "text/plain": [
              "<Figure size 432x288 with 1 Axes>"
            ]
          },
          "metadata": {
            "tags": [],
            "needs_background": "light"
          }
        }
      ]
    },
    {
      "cell_type": "code",
      "metadata": {
        "colab": {
          "base_uri": "https://localhost:8080/",
          "height": 950
        },
        "id": "lw8ikLZ8gOMr",
        "outputId": "daf0a8a6-23e2-47b8-80ea-772fb5330434"
      },
      "source": [
        "Y_test"
      ],
      "execution_count": null,
      "outputs": [
        {
          "output_type": "execute_result",
          "data": {
            "text/html": [
              "<div>\n",
              "<style scoped>\n",
              "    .dataframe tbody tr th:only-of-type {\n",
              "        vertical-align: middle;\n",
              "    }\n",
              "\n",
              "    .dataframe tbody tr th {\n",
              "        vertical-align: top;\n",
              "    }\n",
              "\n",
              "    .dataframe thead th {\n",
              "        text-align: right;\n",
              "    }\n",
              "</style>\n",
              "<table border=\"1\" class=\"dataframe\">\n",
              "  <thead>\n",
              "    <tr style=\"text-align: right;\">\n",
              "      <th></th>\n",
              "      <th>Salinity</th>\n",
              "    </tr>\n",
              "  </thead>\n",
              "  <tbody>\n",
              "    <tr>\n",
              "      <th>198</th>\n",
              "      <td>8.09</td>\n",
              "    </tr>\n",
              "    <tr>\n",
              "      <th>276</th>\n",
              "      <td>0.28</td>\n",
              "    </tr>\n",
              "    <tr>\n",
              "      <th>287</th>\n",
              "      <td>0.28</td>\n",
              "    </tr>\n",
              "    <tr>\n",
              "      <th>291</th>\n",
              "      <td>13.73</td>\n",
              "    </tr>\n",
              "    <tr>\n",
              "      <th>193</th>\n",
              "      <td>0.13</td>\n",
              "    </tr>\n",
              "    <tr>\n",
              "      <th>134</th>\n",
              "      <td>23.48</td>\n",
              "    </tr>\n",
              "    <tr>\n",
              "      <th>62</th>\n",
              "      <td>23.91</td>\n",
              "    </tr>\n",
              "    <tr>\n",
              "      <th>224</th>\n",
              "      <td>0.24</td>\n",
              "    </tr>\n",
              "    <tr>\n",
              "      <th>11</th>\n",
              "      <td>23.50</td>\n",
              "    </tr>\n",
              "    <tr>\n",
              "      <th>238</th>\n",
              "      <td>1.05</td>\n",
              "    </tr>\n",
              "    <tr>\n",
              "      <th>215</th>\n",
              "      <td>0.06</td>\n",
              "    </tr>\n",
              "    <tr>\n",
              "      <th>274</th>\n",
              "      <td>0.28</td>\n",
              "    </tr>\n",
              "    <tr>\n",
              "      <th>285</th>\n",
              "      <td>0.28</td>\n",
              "    </tr>\n",
              "    <tr>\n",
              "      <th>234</th>\n",
              "      <td>24.05</td>\n",
              "    </tr>\n",
              "    <tr>\n",
              "      <th>153</th>\n",
              "      <td>23.77</td>\n",
              "    </tr>\n",
              "    <tr>\n",
              "      <th>128</th>\n",
              "      <td>0.23</td>\n",
              "    </tr>\n",
              "    <tr>\n",
              "      <th>282</th>\n",
              "      <td>0.28</td>\n",
              "    </tr>\n",
              "    <tr>\n",
              "      <th>136</th>\n",
              "      <td>0.01</td>\n",
              "    </tr>\n",
              "    <tr>\n",
              "      <th>253</th>\n",
              "      <td>0.21</td>\n",
              "    </tr>\n",
              "    <tr>\n",
              "      <th>151</th>\n",
              "      <td>24.52</td>\n",
              "    </tr>\n",
              "    <tr>\n",
              "      <th>233</th>\n",
              "      <td>0.17</td>\n",
              "    </tr>\n",
              "    <tr>\n",
              "      <th>263</th>\n",
              "      <td>0.14</td>\n",
              "    </tr>\n",
              "    <tr>\n",
              "      <th>116</th>\n",
              "      <td>25.40</td>\n",
              "    </tr>\n",
              "    <tr>\n",
              "      <th>214</th>\n",
              "      <td>0.06</td>\n",
              "    </tr>\n",
              "    <tr>\n",
              "      <th>257</th>\n",
              "      <td>18.92</td>\n",
              "    </tr>\n",
              "    <tr>\n",
              "      <th>251</th>\n",
              "      <td>0.21</td>\n",
              "    </tr>\n",
              "    <tr>\n",
              "      <th>165</th>\n",
              "      <td>0.29</td>\n",
              "    </tr>\n",
              "    <tr>\n",
              "      <th>268</th>\n",
              "      <td>0.28</td>\n",
              "    </tr>\n",
              "    <tr>\n",
              "      <th>4</th>\n",
              "      <td>0.25</td>\n",
              "    </tr>\n",
              "    <tr>\n",
              "      <th>29</th>\n",
              "      <td>0.18</td>\n",
              "    </tr>\n",
              "  </tbody>\n",
              "</table>\n",
              "</div>"
            ],
            "text/plain": [
              "     Salinity\n",
              "198      8.09\n",
              "276      0.28\n",
              "287      0.28\n",
              "291     13.73\n",
              "193      0.13\n",
              "134     23.48\n",
              "62      23.91\n",
              "224      0.24\n",
              "11      23.50\n",
              "238      1.05\n",
              "215      0.06\n",
              "274      0.28\n",
              "285      0.28\n",
              "234     24.05\n",
              "153     23.77\n",
              "128      0.23\n",
              "282      0.28\n",
              "136      0.01\n",
              "253      0.21\n",
              "151     24.52\n",
              "233      0.17\n",
              "263      0.14\n",
              "116     25.40\n",
              "214      0.06\n",
              "257     18.92\n",
              "251      0.21\n",
              "165      0.29\n",
              "268      0.28\n",
              "4        0.25\n",
              "29       0.18"
            ]
          },
          "metadata": {
            "tags": []
          },
          "execution_count": 101
        }
      ]
    },
    {
      "cell_type": "code",
      "metadata": {
        "id": "muXC6ZYQgser"
      },
      "source": [
        ""
      ],
      "execution_count": null,
      "outputs": []
    }
  ]
}
